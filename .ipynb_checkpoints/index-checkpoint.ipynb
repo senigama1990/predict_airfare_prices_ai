{
 "cells": [
  {
   "cell_type": "markdown",
   "id": "2022d744-3ae7-4e78-bbc2-db4c4227a471",
   "metadata": {},
   "source": [
    "## KERAKLI KUTUBXONALARMI IMPORT QILISH"
   ]
  },
  {
   "cell_type": "code",
   "execution_count": 129,
   "id": "42ad7c0f-c696-4970-b1c0-9cbbd0e93b72",
   "metadata": {},
   "outputs": [],
   "source": [
    "import pandas as pd\n",
    "import numpy as np\n",
    "import matplotlib.pyplot as plt\n",
    "import seaborn as sns"
   ]
  },
  {
   "cell_type": "markdown",
   "id": "ec923c24-c561-4ec4-a27c-e34cb7e3c0cd",
   "metadata": {},
   "source": [
    "## FAYLNI O\"QISH"
   ]
  },
  {
   "cell_type": "code",
   "execution_count": 130,
   "id": "755e215d-27d4-48cd-9db4-63b52c4c6c59",
   "metadata": {},
   "outputs": [
    {
     "data": {
      "text/html": [
       "<div>\n",
       "<style scoped>\n",
       "    .dataframe tbody tr th:only-of-type {\n",
       "        vertical-align: middle;\n",
       "    }\n",
       "\n",
       "    .dataframe tbody tr th {\n",
       "        vertical-align: top;\n",
       "    }\n",
       "\n",
       "    .dataframe thead th {\n",
       "        text-align: right;\n",
       "    }\n",
       "</style>\n",
       "<table border=\"1\" class=\"dataframe\">\n",
       "  <thead>\n",
       "    <tr style=\"text-align: right;\">\n",
       "      <th></th>\n",
       "      <th>id</th>\n",
       "      <th>airline</th>\n",
       "      <th>flight</th>\n",
       "      <th>source_city</th>\n",
       "      <th>departure_time</th>\n",
       "      <th>stops</th>\n",
       "      <th>arrival_time</th>\n",
       "      <th>destination_city</th>\n",
       "      <th>class</th>\n",
       "      <th>duration</th>\n",
       "      <th>days_left</th>\n",
       "      <th>price</th>\n",
       "    </tr>\n",
       "  </thead>\n",
       "  <tbody>\n",
       "    <tr>\n",
       "      <th>0</th>\n",
       "      <td>1</td>\n",
       "      <td>Vistara</td>\n",
       "      <td>UK-810</td>\n",
       "      <td>Bangalore</td>\n",
       "      <td>Early_Morning</td>\n",
       "      <td>one</td>\n",
       "      <td>Night</td>\n",
       "      <td>Mumbai</td>\n",
       "      <td>Economy</td>\n",
       "      <td>14.25</td>\n",
       "      <td>21</td>\n",
       "      <td>7212</td>\n",
       "    </tr>\n",
       "    <tr>\n",
       "      <th>1</th>\n",
       "      <td>2</td>\n",
       "      <td>SpiceJet</td>\n",
       "      <td>SG-5094</td>\n",
       "      <td>Hyderabad</td>\n",
       "      <td>Evening</td>\n",
       "      <td>zero</td>\n",
       "      <td>Night</td>\n",
       "      <td>Kolkata</td>\n",
       "      <td>Economy</td>\n",
       "      <td>1.75</td>\n",
       "      <td>7</td>\n",
       "      <td>5292</td>\n",
       "    </tr>\n",
       "    <tr>\n",
       "      <th>2</th>\n",
       "      <td>3</td>\n",
       "      <td>Vistara</td>\n",
       "      <td>UK-846</td>\n",
       "      <td>Bangalore</td>\n",
       "      <td>Morning</td>\n",
       "      <td>one</td>\n",
       "      <td>Evening</td>\n",
       "      <td>Delhi</td>\n",
       "      <td>Business</td>\n",
       "      <td>9.58</td>\n",
       "      <td>5</td>\n",
       "      <td>60553</td>\n",
       "    </tr>\n",
       "    <tr>\n",
       "      <th>3</th>\n",
       "      <td>4</td>\n",
       "      <td>Vistara</td>\n",
       "      <td>UK-706</td>\n",
       "      <td>Kolkata</td>\n",
       "      <td>Morning</td>\n",
       "      <td>one</td>\n",
       "      <td>Evening</td>\n",
       "      <td>Hyderabad</td>\n",
       "      <td>Economy</td>\n",
       "      <td>6.75</td>\n",
       "      <td>28</td>\n",
       "      <td>5760</td>\n",
       "    </tr>\n",
       "    <tr>\n",
       "      <th>4</th>\n",
       "      <td>5</td>\n",
       "      <td>Indigo</td>\n",
       "      <td>6E-5394</td>\n",
       "      <td>Chennai</td>\n",
       "      <td>Early_Morning</td>\n",
       "      <td>zero</td>\n",
       "      <td>Morning</td>\n",
       "      <td>Mumbai</td>\n",
       "      <td>Economy</td>\n",
       "      <td>2.00</td>\n",
       "      <td>4</td>\n",
       "      <td>10712</td>\n",
       "    </tr>\n",
       "    <tr>\n",
       "      <th>5</th>\n",
       "      <td>6</td>\n",
       "      <td>Air_India</td>\n",
       "      <td>AI-636</td>\n",
       "      <td>Delhi</td>\n",
       "      <td>Afternoon</td>\n",
       "      <td>one</td>\n",
       "      <td>Morning</td>\n",
       "      <td>Chennai</td>\n",
       "      <td>Business</td>\n",
       "      <td>20.42</td>\n",
       "      <td>5</td>\n",
       "      <td>45257</td>\n",
       "    </tr>\n",
       "    <tr>\n",
       "      <th>6</th>\n",
       "      <td>7</td>\n",
       "      <td>Vistara</td>\n",
       "      <td>UK-834</td>\n",
       "      <td>Chennai</td>\n",
       "      <td>Evening</td>\n",
       "      <td>one</td>\n",
       "      <td>Morning</td>\n",
       "      <td>Mumbai</td>\n",
       "      <td>Economy</td>\n",
       "      <td>18.42</td>\n",
       "      <td>20</td>\n",
       "      <td>5054</td>\n",
       "    </tr>\n",
       "    <tr>\n",
       "      <th>7</th>\n",
       "      <td>8</td>\n",
       "      <td>Air_India</td>\n",
       "      <td>AI-505</td>\n",
       "      <td>Bangalore</td>\n",
       "      <td>Morning</td>\n",
       "      <td>zero</td>\n",
       "      <td>Afternoon</td>\n",
       "      <td>Delhi</td>\n",
       "      <td>Business</td>\n",
       "      <td>2.58</td>\n",
       "      <td>30</td>\n",
       "      <td>32923</td>\n",
       "    </tr>\n",
       "    <tr>\n",
       "      <th>8</th>\n",
       "      <td>9</td>\n",
       "      <td>Vistara</td>\n",
       "      <td>UK-810</td>\n",
       "      <td>Bangalore</td>\n",
       "      <td>Early_Morning</td>\n",
       "      <td>one</td>\n",
       "      <td>Night</td>\n",
       "      <td>Hyderabad</td>\n",
       "      <td>Economy</td>\n",
       "      <td>15.92</td>\n",
       "      <td>12</td>\n",
       "      <td>11383</td>\n",
       "    </tr>\n",
       "    <tr>\n",
       "      <th>9</th>\n",
       "      <td>10</td>\n",
       "      <td>Air_India</td>\n",
       "      <td>AI-538</td>\n",
       "      <td>Chennai</td>\n",
       "      <td>Night</td>\n",
       "      <td>one</td>\n",
       "      <td>Afternoon</td>\n",
       "      <td>Mumbai</td>\n",
       "      <td>Economy</td>\n",
       "      <td>16.50</td>\n",
       "      <td>18</td>\n",
       "      <td>4357</td>\n",
       "    </tr>\n",
       "  </tbody>\n",
       "</table>\n",
       "</div>"
      ],
      "text/plain": [
       "   id    airline   flight source_city departure_time stops arrival_time  \\\n",
       "0   1    Vistara   UK-810   Bangalore  Early_Morning   one        Night   \n",
       "1   2   SpiceJet  SG-5094   Hyderabad        Evening  zero        Night   \n",
       "2   3    Vistara   UK-846   Bangalore        Morning   one      Evening   \n",
       "3   4    Vistara   UK-706     Kolkata        Morning   one      Evening   \n",
       "4   5     Indigo  6E-5394     Chennai  Early_Morning  zero      Morning   \n",
       "5   6  Air_India   AI-636       Delhi      Afternoon   one      Morning   \n",
       "6   7    Vistara   UK-834     Chennai        Evening   one      Morning   \n",
       "7   8  Air_India   AI-505   Bangalore        Morning  zero    Afternoon   \n",
       "8   9    Vistara   UK-810   Bangalore  Early_Morning   one        Night   \n",
       "9  10  Air_India   AI-538     Chennai          Night   one    Afternoon   \n",
       "\n",
       "  destination_city     class  duration  days_left  price  \n",
       "0           Mumbai   Economy     14.25         21   7212  \n",
       "1          Kolkata   Economy      1.75          7   5292  \n",
       "2            Delhi  Business      9.58          5  60553  \n",
       "3        Hyderabad   Economy      6.75         28   5760  \n",
       "4           Mumbai   Economy      2.00          4  10712  \n",
       "5          Chennai  Business     20.42          5  45257  \n",
       "6           Mumbai   Economy     18.42         20   5054  \n",
       "7            Delhi  Business      2.58         30  32923  \n",
       "8        Hyderabad   Economy     15.92         12  11383  \n",
       "9           Mumbai   Economy     16.50         18   4357  "
      ]
     },
     "execution_count": 130,
     "metadata": {},
     "output_type": "execute_result"
    }
   ],
   "source": [
    "df = pd.read_csv(\"train_data.csv\")\n",
    "df.head(10)"
   ]
  },
  {
   "cell_type": "code",
   "execution_count": 131,
   "id": "2f1b8e3d-1016-4c4a-ba68-b3bf0618b714",
   "metadata": {
    "tags": []
   },
   "outputs": [
    {
     "name": "stdout",
     "output_type": "stream",
     "text": [
      "<class 'pandas.core.frame.DataFrame'>\n",
      "RangeIndex: 20000 entries, 0 to 19999\n",
      "Data columns (total 12 columns):\n",
      " #   Column            Non-Null Count  Dtype  \n",
      "---  ------            --------------  -----  \n",
      " 0   id                20000 non-null  int64  \n",
      " 1   airline           20000 non-null  object \n",
      " 2   flight            20000 non-null  object \n",
      " 3   source_city       20000 non-null  object \n",
      " 4   departure_time    20000 non-null  object \n",
      " 5   stops             20000 non-null  object \n",
      " 6   arrival_time      20000 non-null  object \n",
      " 7   destination_city  20000 non-null  object \n",
      " 8   class             20000 non-null  object \n",
      " 9   duration          20000 non-null  float64\n",
      " 10  days_left         20000 non-null  int64  \n",
      " 11  price             20000 non-null  int64  \n",
      "dtypes: float64(1), int64(3), object(8)\n",
      "memory usage: 1.8+ MB\n"
     ]
    }
   ],
   "source": [
    "df.info()"
   ]
  },
  {
   "cell_type": "markdown",
   "id": "09787c5a-e105-4610-a188-4a3da7fd6efa",
   "metadata": {},
   "source": [
    "## DUBLIKAT BORLIGINI TEKSHIRISH"
   ]
  },
  {
   "cell_type": "code",
   "execution_count": 132,
   "id": "599361c8-11bb-4d03-84b2-db3d2074db0b",
   "metadata": {},
   "outputs": [
    {
     "data": {
      "text/plain": [
       "0"
      ]
     },
     "execution_count": 132,
     "metadata": {},
     "output_type": "execute_result"
    }
   ],
   "source": [
    "df.duplicated().sum()"
   ]
  },
  {
   "cell_type": "code",
   "execution_count": 133,
   "id": "9be195fb-02bd-473d-9a77-f41600935840",
   "metadata": {},
   "outputs": [
    {
     "data": {
      "text/plain": [
       "(20000, 12)"
      ]
     },
     "execution_count": 133,
     "metadata": {},
     "output_type": "execute_result"
    }
   ],
   "source": [
    "df.shape"
   ]
  },
  {
   "cell_type": "markdown",
   "id": "128310fb-fcf1-40a8-888d-7718216ddd15",
   "metadata": {},
   "source": [
    "## NULL QIYMAT BORLIGINI TEKSHIRISH"
   ]
  },
  {
   "cell_type": "code",
   "execution_count": 134,
   "id": "a1031027-32eb-49c3-9ac7-9bd8629ef61b",
   "metadata": {},
   "outputs": [
    {
     "data": {
      "text/plain": [
       "id                  0\n",
       "airline             0\n",
       "flight              0\n",
       "source_city         0\n",
       "departure_time      0\n",
       "stops               0\n",
       "arrival_time        0\n",
       "destination_city    0\n",
       "class               0\n",
       "duration            0\n",
       "days_left           0\n",
       "price               0\n",
       "dtype: int64"
      ]
     },
     "execution_count": 134,
     "metadata": {},
     "output_type": "execute_result"
    }
   ],
   "source": [
    "df.isnull().sum()"
   ]
  },
  {
   "cell_type": "markdown",
   "id": "2f2eee80-b64a-4cb3-b67b-223575fb2674",
   "metadata": {},
   "source": [
    "## KOORELYATSIYA"
   ]
  },
  {
   "cell_type": "code",
   "execution_count": 135,
   "id": "f3bd4d0d-ef6f-40db-80a6-8761cdb482d0",
   "metadata": {},
   "outputs": [
    {
     "data": {
      "text/html": [
       "<div>\n",
       "<style scoped>\n",
       "    .dataframe tbody tr th:only-of-type {\n",
       "        vertical-align: middle;\n",
       "    }\n",
       "\n",
       "    .dataframe tbody tr th {\n",
       "        vertical-align: top;\n",
       "    }\n",
       "\n",
       "    .dataframe thead th {\n",
       "        text-align: right;\n",
       "    }\n",
       "</style>\n",
       "<table border=\"1\" class=\"dataframe\">\n",
       "  <thead>\n",
       "    <tr style=\"text-align: right;\">\n",
       "      <th></th>\n",
       "      <th>id</th>\n",
       "      <th>duration</th>\n",
       "      <th>days_left</th>\n",
       "      <th>price</th>\n",
       "    </tr>\n",
       "  </thead>\n",
       "  <tbody>\n",
       "    <tr>\n",
       "      <th>id</th>\n",
       "      <td>1.000000</td>\n",
       "      <td>-0.000458</td>\n",
       "      <td>0.003195</td>\n",
       "      <td>-0.002443</td>\n",
       "    </tr>\n",
       "    <tr>\n",
       "      <th>duration</th>\n",
       "      <td>-0.000458</td>\n",
       "      <td>1.000000</td>\n",
       "      <td>-0.020091</td>\n",
       "      <td>0.213158</td>\n",
       "    </tr>\n",
       "    <tr>\n",
       "      <th>days_left</th>\n",
       "      <td>0.003195</td>\n",
       "      <td>-0.020091</td>\n",
       "      <td>1.000000</td>\n",
       "      <td>-0.102545</td>\n",
       "    </tr>\n",
       "    <tr>\n",
       "      <th>price</th>\n",
       "      <td>-0.002443</td>\n",
       "      <td>0.213158</td>\n",
       "      <td>-0.102545</td>\n",
       "      <td>1.000000</td>\n",
       "    </tr>\n",
       "  </tbody>\n",
       "</table>\n",
       "</div>"
      ],
      "text/plain": [
       "                 id  duration  days_left     price\n",
       "id         1.000000 -0.000458   0.003195 -0.002443\n",
       "duration  -0.000458  1.000000  -0.020091  0.213158\n",
       "days_left  0.003195 -0.020091   1.000000 -0.102545\n",
       "price     -0.002443  0.213158  -0.102545  1.000000"
      ]
     },
     "execution_count": 135,
     "metadata": {},
     "output_type": "execute_result"
    }
   ],
   "source": [
    "df.corr()"
   ]
  },
  {
   "cell_type": "markdown",
   "id": "5beb28cd-f0c6-4c63-89f1-66e9493338ef",
   "metadata": {},
   "source": [
    "## VISUALISATION"
   ]
  },
  {
   "cell_type": "code",
   "execution_count": 136,
   "id": "c2d354b5-62e2-48c6-bc71-c4c3b6d9876f",
   "metadata": {},
   "outputs": [
    {
     "data": {
      "image/png": "[encoded data removed]",
      "text/plain": [
       "<Figure size 1000x500 with 1 Axes>"
      ]
     },
     "metadata": {},
     "output_type": "display_data"
    }
   ],
   "source": [
    "plt.figure(figsize=(10,5))\n",
    "sns.histplot(data= df, x = 'class', hue='class', palette='Accent')\n",
    "plt.show()"
   ]
  },
  {
   "cell_type": "code",
   "execution_count": 137,
   "id": "b922ee0b-3726-45f9-829c-0b42cd9d63b7",
   "metadata": {},
   "outputs": [
    {
     "data": {
      "image/png": "[encoded data removed]",
      "text/plain": [
       "<Figure size 640x480 with 1 Axes>"
      ]
     },
     "metadata": {},
     "output_type": "display_data"
    }
   ],
   "source": [
    "sns.scatterplot(data= df[(df['airline']=='Vistara')], x='price', y= 'days_left', hue = 'class')\n",
    "plt.show()"
   ]
  },
  {
   "cell_type": "markdown",
   "id": "c0ab043a-d19d-4a8a-8b4d-ddbfaaae01b5",
   "metadata": {},
   "source": [
    "## MachineLearning"
   ]
  },
  {
   "cell_type": "markdown",
   "id": "2ebb5dd0-9cdd-4bcf-951d-2cf175260ab7",
   "metadata": {},
   "source": [
    "## TEST SPLIT IMPORT"
   ]
  },
  {
   "cell_type": "code",
   "execution_count": 128,
   "id": "623a4214-e4e4-4b1e-b564-0277e2adee00",
   "metadata": {},
   "outputs": [],
   "source": [
    "from sklearn.model_selection import train_test_split"
   ]
  },
  {
   "cell_type": "markdown",
   "id": "ee6894d0-6da6-4b53-93ba-a7e75a132dab",
   "metadata": {
    "tags": []
   },
   "source": [
    "## DATANI TEST VA TRAINGA BO'LISH"
   ]
  },
  {
   "cell_type": "code",
   "execution_count": 138,
   "id": "3f5874ff-fc20-4b15-86bb-4e614f777ad0",
   "metadata": {},
   "outputs": [],
   "source": [
    "train_set, test_set = train_test_split(df,test_size=0.2, random_state=101)"
   ]
  },
  {
   "cell_type": "code",
   "execution_count": 139,
   "id": "f702acfc-2f9c-4497-988d-d7fd08008370",
   "metadata": {},
   "outputs": [],
   "source": [
    "X = train_set.drop('price', axis = 1)"
   ]
  },
  {
   "cell_type": "code",
   "execution_count": 140,
   "id": "96399bbb-82b8-430c-a094-f363ee07833c",
   "metadata": {},
   "outputs": [],
   "source": [
    "Y = train_set['price'].copy()"
   ]
  },
  {
   "cell_type": "code",
   "execution_count": 142,
   "id": "08b9c2da-bdd7-40bb-923f-f5641edb1734",
   "metadata": {},
   "outputs": [
    {
     "data": {
      "text/plain": [
       "(16000, 11)"
      ]
     },
     "execution_count": 142,
     "metadata": {},
     "output_type": "execute_result"
    }
   ],
   "source": [
    "X.shape"
   ]
  },
  {
   "cell_type": "markdown",
   "id": "8ff0e757-a036-4d3e-b0e0-b6804e7afc81",
   "metadata": {},
   "source": [
    "## MATNLI USTUN UCHUN NORMALISATION"
   ]
  },
  {
   "cell_type": "code",
   "execution_count": 94,
   "id": "2dfffc97-084e-4319-895c-5a4124595f7c",
   "metadata": {},
   "outputs": [],
   "source": [
    "from sklearn.preprocessing import OneHotEncoder, StandardScaler"
   ]
  },
  {
   "cell_type": "code",
   "execution_count": 96,
   "id": "ab5f4b82-a54e-4de8-a4d4-17491296dddd",
   "metadata": {},
   "outputs": [
    {
     "data": {
      "text/html": [
       "<div>\n",
       "<style scoped>\n",
       "    .dataframe tbody tr th:only-of-type {\n",
       "        vertical-align: middle;\n",
       "    }\n",
       "\n",
       "    .dataframe tbody tr th {\n",
       "        vertical-align: top;\n",
       "    }\n",
       "\n",
       "    .dataframe thead th {\n",
       "        text-align: right;\n",
       "    }\n",
       "</style>\n",
       "<table border=\"1\" class=\"dataframe\">\n",
       "  <thead>\n",
       "    <tr style=\"text-align: right;\">\n",
       "      <th></th>\n",
       "      <th>id</th>\n",
       "      <th>airline</th>\n",
       "      <th>flight</th>\n",
       "      <th>source_city</th>\n",
       "      <th>departure_time</th>\n",
       "      <th>stops</th>\n",
       "      <th>arrival_time</th>\n",
       "      <th>destination_city</th>\n",
       "      <th>class</th>\n",
       "      <th>duration</th>\n",
       "      <th>days_left</th>\n",
       "      <th>price</th>\n",
       "    </tr>\n",
       "  </thead>\n",
       "  <tbody>\n",
       "    <tr>\n",
       "      <th>0</th>\n",
       "      <td>1</td>\n",
       "      <td>Vistara</td>\n",
       "      <td>UK-810</td>\n",
       "      <td>Bangalore</td>\n",
       "      <td>Early_Morning</td>\n",
       "      <td>one</td>\n",
       "      <td>Night</td>\n",
       "      <td>Mumbai</td>\n",
       "      <td>Economy</td>\n",
       "      <td>14.25</td>\n",
       "      <td>21</td>\n",
       "      <td>7212</td>\n",
       "    </tr>\n",
       "    <tr>\n",
       "      <th>1</th>\n",
       "      <td>2</td>\n",
       "      <td>SpiceJet</td>\n",
       "      <td>SG-5094</td>\n",
       "      <td>Hyderabad</td>\n",
       "      <td>Evening</td>\n",
       "      <td>zero</td>\n",
       "      <td>Night</td>\n",
       "      <td>Kolkata</td>\n",
       "      <td>Economy</td>\n",
       "      <td>1.75</td>\n",
       "      <td>7</td>\n",
       "      <td>5292</td>\n",
       "    </tr>\n",
       "    <tr>\n",
       "      <th>2</th>\n",
       "      <td>3</td>\n",
       "      <td>Vistara</td>\n",
       "      <td>UK-846</td>\n",
       "      <td>Bangalore</td>\n",
       "      <td>Morning</td>\n",
       "      <td>one</td>\n",
       "      <td>Evening</td>\n",
       "      <td>Delhi</td>\n",
       "      <td>Business</td>\n",
       "      <td>9.58</td>\n",
       "      <td>5</td>\n",
       "      <td>60553</td>\n",
       "    </tr>\n",
       "    <tr>\n",
       "      <th>3</th>\n",
       "      <td>4</td>\n",
       "      <td>Vistara</td>\n",
       "      <td>UK-706</td>\n",
       "      <td>Kolkata</td>\n",
       "      <td>Morning</td>\n",
       "      <td>one</td>\n",
       "      <td>Evening</td>\n",
       "      <td>Hyderabad</td>\n",
       "      <td>Economy</td>\n",
       "      <td>6.75</td>\n",
       "      <td>28</td>\n",
       "      <td>5760</td>\n",
       "    </tr>\n",
       "    <tr>\n",
       "      <th>4</th>\n",
       "      <td>5</td>\n",
       "      <td>Indigo</td>\n",
       "      <td>6E-5394</td>\n",
       "      <td>Chennai</td>\n",
       "      <td>Early_Morning</td>\n",
       "      <td>zero</td>\n",
       "      <td>Morning</td>\n",
       "      <td>Mumbai</td>\n",
       "      <td>Economy</td>\n",
       "      <td>2.00</td>\n",
       "      <td>4</td>\n",
       "      <td>10712</td>\n",
       "    </tr>\n",
       "  </tbody>\n",
       "</table>\n",
       "</div>"
      ],
      "text/plain": [
       "   id   airline   flight source_city departure_time stops arrival_time  \\\n",
       "0   1   Vistara   UK-810   Bangalore  Early_Morning   one        Night   \n",
       "1   2  SpiceJet  SG-5094   Hyderabad        Evening  zero        Night   \n",
       "2   3   Vistara   UK-846   Bangalore        Morning   one      Evening   \n",
       "3   4   Vistara   UK-706     Kolkata        Morning   one      Evening   \n",
       "4   5    Indigo  6E-5394     Chennai  Early_Morning  zero      Morning   \n",
       "\n",
       "  destination_city     class  duration  days_left  price  \n",
       "0           Mumbai   Economy     14.25         21   7212  \n",
       "1          Kolkata   Economy      1.75          7   5292  \n",
       "2            Delhi  Business      9.58          5  60553  \n",
       "3        Hyderabad   Economy      6.75         28   5760  \n",
       "4           Mumbai   Economy      2.00          4  10712  "
      ]
     },
     "execution_count": 96,
     "metadata": {},
     "output_type": "execute_result"
    }
   ],
   "source": [
    "df.head()"
   ]
  },
  {
   "cell_type": "markdown",
   "id": "82e24752-4375-4b9b-aad1-c9379488caf9",
   "metadata": {},
   "source": [
    "## MATNLI VA SONLI USTUNLARNI BELGILASH"
   ]
  },
  {
   "cell_type": "code",
   "execution_count": 144,
   "id": "5870311a-7e7c-4534-a749-2e80a2dd7156",
   "metadata": {},
   "outputs": [],
   "source": [
    "from sklearn.compose import ColumnTransformer"
   ]
  },
  {
   "cell_type": "code",
   "execution_count": 145,
   "id": "ec4f01b1-4541-4efd-9f08-babf2771ad3d",
   "metadata": {},
   "outputs": [],
   "source": [
    "num_attributs = ['duration', \n",
    "                 'days_left']"
   ]
  },
  {
   "cell_type": "code",
   "execution_count": 146,
   "id": "84502b07-4d5c-401c-b3bd-15bf66c97df2",
   "metadata": {},
   "outputs": [],
   "source": [
    "word_attributs = ['airline',\n",
    "                 'source_city',\n",
    "                 'departure_time', \n",
    "                 'stops', \n",
    "                 'arrival_time',\n",
    "                 'destination_city',\n",
    "                 'class']"
   ]
  },
  {
   "cell_type": "code",
   "execution_count": 147,
   "id": "398e4a7b-a266-4ebf-b60c-5eb30e5e46f1",
   "metadata": {},
   "outputs": [
    {
     "data": {
      "text/plain": [
       "['duration', 'days_left']"
      ]
     },
     "execution_count": 147,
     "metadata": {},
     "output_type": "execute_result"
    }
   ],
   "source": [
    "num_attributs"
   ]
  },
  {
   "cell_type": "code",
   "execution_count": 148,
   "id": "4dec2e99-2fa2-47b0-b594-d7e8d7ee00ec",
   "metadata": {},
   "outputs": [
    {
     "data": {
      "text/plain": [
       "['airline',\n",
       " 'source_city',\n",
       " 'departure_time',\n",
       " 'stops',\n",
       " 'arrival_time',\n",
       " 'destination_city',\n",
       " 'class']"
      ]
     },
     "execution_count": 148,
     "metadata": {},
     "output_type": "execute_result"
    }
   ],
   "source": [
    "word_attributs"
   ]
  },
  {
   "cell_type": "markdown",
   "id": "6fd2fff1-ed17-496a-8555-938fa644e609",
   "metadata": {},
   "source": [
    "## NORMALIZASIYA UCHUN KONVEYER"
   ]
  },
  {
   "cell_type": "code",
   "execution_count": 149,
   "id": "d38a682b-6557-4e05-9417-79f80cd190c5",
   "metadata": {},
   "outputs": [],
   "source": [
    "from sklearn.pipeline import Pipeline\n",
    "num_pipeline = Pipeline([('std_scaler', StandardScaler())])"
   ]
  },
  {
   "cell_type": "markdown",
   "id": "9c367eb3-d1ed-4906-9633-19941d135d78",
   "metadata": {},
   "source": [
    "## NORMALIZASIYA VA CATEGORIYALASH"
   ]
  },
  {
   "cell_type": "code",
   "execution_count": 152,
   "id": "ec78fb08-7d36-49f4-a769-ee1b8d185e27",
   "metadata": {},
   "outputs": [],
   "source": [
    "full_pipeline = ColumnTransformer([\n",
    "                                  ('num', num_pipeline, num_attributs), #Normalizasiyalash\n",
    "                                  ('word', OneHotEncoder(), word_attributs) #Categoriyalash\n",
    "])"
   ]
  },
  {
   "cell_type": "markdown",
   "id": "82e05845-2847-408c-b375-6f449698a058",
   "metadata": {},
   "source": [
    "## X_train ni tayyorlab olamiz"
   ]
  },
  {
   "cell_type": "code",
   "execution_count": 153,
   "id": "e34a082e-1280-4622-9362-03102f7d2c34",
   "metadata": {},
   "outputs": [
    {
     "data": {
      "text/plain": [
       "<16000x37 sparse matrix of type '<class 'numpy.float64'>'\n",
       "\twith 144000 stored elements in Compressed Sparse Row format>"
      ]
     },
     "execution_count": 153,
     "metadata": {},
     "output_type": "execute_result"
    }
   ],
   "source": [
    "air_pipeline = full_pipeline.fit_transform(X)\n",
    "air_pipeline"
   ]
  },
  {
   "cell_type": "markdown",
   "id": "093c263b-0eff-445a-b5ce-94a6c11ef3ce",
   "metadata": {},
   "source": [
    "## LINEAR REGRESSION"
   ]
  },
  {
   "cell_type": "code",
   "execution_count": 154,
   "id": "213e214c-77d9-4d4f-9526-575511a8d095",
   "metadata": {},
   "outputs": [],
   "source": [
    "from sklearn.linear_model import LinearRegression"
   ]
  },
  {
   "cell_type": "code",
   "execution_count": 155,
   "id": "4b9fc2a3-9147-4266-a506-0ba14ef8f18a",
   "metadata": {},
   "outputs": [],
   "source": [
    "LR_model= LinearRegression()"
   ]
  },
  {
   "cell_type": "code",
   "execution_count": 158,
   "id": "c8e9f614-9e09-4227-ad35-3774f09dc27e",
   "metadata": {},
   "outputs": [
    {
     "data": {
      "text/plain": [
       "LinearRegression()"
      ]
     },
     "execution_count": 158,
     "metadata": {},
     "output_type": "execute_result"
    }
   ],
   "source": [
    "LR_model.fit(air_pipeline, Y)"
   ]
  },
  {
   "cell_type": "markdown",
   "id": "cf31e87e-b65f-4bd2-b306-c033c8b8dc3e",
   "metadata": {},
   "source": [
    "## TESTSET"
   ]
  },
  {
   "cell_type": "code",
   "execution_count": 112,
   "id": "dda935fa-a925-480e-9e9b-c4226f665c02",
   "metadata": {},
   "outputs": [],
   "source": [
    "x_test = test_set.drop('price', axis = 1)\n",
    "y_test = test_set.price.loc[x_test.index]"
   ]
  },
  {
   "cell_type": "markdown",
   "id": "cd884e5b-ae87-4476-9660-b3b7e7a2d6a5",
   "metadata": {},
   "source": [
    "## X_TEST QIYMATLARINI NORMALLASHTIRIB KATEGORIYAGA AJRATIB OLAMIZ"
   ]
  },
  {
   "cell_type": "code",
   "execution_count": 159,
   "id": "89e86cff-3276-4a1e-8d9c-241b9c29f4e1",
   "metadata": {},
   "outputs": [],
   "source": [
    "test_pipeline = full_pipeline.fit_transform(x_test)"
   ]
  },
  {
   "cell_type": "markdown",
   "id": "0e73925c-4a1e-471a-a06a-bbc973377a39",
   "metadata": {},
   "source": [
    "## BASHORAT"
   ]
  },
  {
   "cell_type": "code",
   "execution_count": 160,
   "id": "d5d09569-52ed-4ea0-810d-3476254f4dff",
   "metadata": {},
   "outputs": [],
   "source": [
    "predict_y = LR_model.predict(test_pipeline)"
   ]
  },
  {
   "cell_type": "markdown",
   "id": "a3b80103-18a5-445e-a001-4443360d28fb",
   "metadata": {},
   "source": [
    "## RESULT"
   ]
  },
  {
   "cell_type": "code",
   "execution_count": 161,
   "id": "130ccb86-eaae-41f6-bcaf-894b25de2039",
   "metadata": {},
   "outputs": [
    {
     "data": {
      "text/html": [
       "<div>\n",
       "<style scoped>\n",
       "    .dataframe tbody tr th:only-of-type {\n",
       "        vertical-align: middle;\n",
       "    }\n",
       "\n",
       "    .dataframe tbody tr th {\n",
       "        vertical-align: top;\n",
       "    }\n",
       "\n",
       "    .dataframe thead th {\n",
       "        text-align: right;\n",
       "    }\n",
       "</style>\n",
       "<table border=\"1\" class=\"dataframe\">\n",
       "  <thead>\n",
       "    <tr style=\"text-align: right;\">\n",
       "      <th></th>\n",
       "      <th>Prophecy</th>\n",
       "      <th>original</th>\n",
       "    </tr>\n",
       "  </thead>\n",
       "  <tbody>\n",
       "    <tr>\n",
       "      <th>6285</th>\n",
       "      <td>4264.987944</td>\n",
       "      <td>4915</td>\n",
       "    </tr>\n",
       "    <tr>\n",
       "      <th>9283</th>\n",
       "      <td>8053.816701</td>\n",
       "      <td>6195</td>\n",
       "    </tr>\n",
       "    <tr>\n",
       "      <th>10276</th>\n",
       "      <td>2877.066163</td>\n",
       "      <td>3860</td>\n",
       "    </tr>\n",
       "    <tr>\n",
       "      <th>10332</th>\n",
       "      <td>55496.029338</td>\n",
       "      <td>53743</td>\n",
       "    </tr>\n",
       "    <tr>\n",
       "      <th>13389</th>\n",
       "      <td>51580.077426</td>\n",
       "      <td>40843</td>\n",
       "    </tr>\n",
       "    <tr>\n",
       "      <th>...</th>\n",
       "      <td>...</td>\n",
       "      <td>...</td>\n",
       "    </tr>\n",
       "    <tr>\n",
       "      <th>19506</th>\n",
       "      <td>-2891.541886</td>\n",
       "      <td>2694</td>\n",
       "    </tr>\n",
       "    <tr>\n",
       "      <th>15052</th>\n",
       "      <td>5763.437228</td>\n",
       "      <td>7685</td>\n",
       "    </tr>\n",
       "    <tr>\n",
       "      <th>1803</th>\n",
       "      <td>12527.794430</td>\n",
       "      <td>17715</td>\n",
       "    </tr>\n",
       "    <tr>\n",
       "      <th>16566</th>\n",
       "      <td>7922.586472</td>\n",
       "      <td>3219</td>\n",
       "    </tr>\n",
       "    <tr>\n",
       "      <th>6044</th>\n",
       "      <td>51188.318227</td>\n",
       "      <td>54841</td>\n",
       "    </tr>\n",
       "  </tbody>\n",
       "</table>\n",
       "<p>4000 rows × 2 columns</p>\n",
       "</div>"
      ],
      "text/plain": [
       "           Prophecy  original\n",
       "6285    4264.987944      4915\n",
       "9283    8053.816701      6195\n",
       "10276   2877.066163      3860\n",
       "10332  55496.029338     53743\n",
       "13389  51580.077426     40843\n",
       "...             ...       ...\n",
       "19506  -2891.541886      2694\n",
       "15052   5763.437228      7685\n",
       "1803   12527.794430     17715\n",
       "16566   7922.586472      3219\n",
       "6044   51188.318227     54841\n",
       "\n",
       "[4000 rows x 2 columns]"
      ]
     },
     "execution_count": 161,
     "metadata": {},
     "output_type": "execute_result"
    }
   ],
   "source": [
    "pd.DataFrame({\n",
    "    'Prophecy':predict_y, \n",
    "    'original':y_test\n",
    "})"
   ]
  },
  {
   "cell_type": "markdown",
   "id": "688049c8-1b10-4f50-8ab8-31e3e5c85480",
   "metadata": {},
   "source": [
    "## BAHOLASH"
   ]
  },
  {
   "cell_type": "code",
   "execution_count": 162,
   "id": "972fdf34-6668-4ffc-bf29-acd1d110a888",
   "metadata": {},
   "outputs": [],
   "source": [
    "from sklearn.metrics import mean_absolute_error"
   ]
  },
  {
   "cell_type": "code",
   "execution_count": 163,
   "id": "25ff487a-92b2-4b91-ab96-abf4a802c413",
   "metadata": {},
   "outputs": [],
   "source": [
    "MAE = mean_absolute_error(y_test, predict_y)"
   ]
  },
  {
   "cell_type": "code",
   "execution_count": 164,
   "id": "82254dce-5b89-401a-a4a6-6f3cdc20d8a1",
   "metadata": {},
   "outputs": [
    {
     "data": {
      "text/plain": [
       "4522.686294472472"
      ]
     },
     "execution_count": 164,
     "metadata": {},
     "output_type": "execute_result"
    }
   ],
   "source": [
    "MAE"
   ]
  },
  {
   "cell_type": "code",
   "execution_count": 165,
   "id": "073f2195-f662-4975-95d8-81acfe0d11e2",
   "metadata": {},
   "outputs": [
    {
     "data": {
      "text/plain": [
       "20960.2817"
      ]
     },
     "execution_count": 165,
     "metadata": {},
     "output_type": "execute_result"
    }
   ],
   "source": [
    "df[\"price\"].mean()"
   ]
  },
  {
   "cell_type": "markdown",
   "id": "86e5cf91-2b48-4c35-9f4a-9dfffc639d8e",
   "metadata": {},
   "source": [
    "## RANDOM FOREST"
   ]
  },
  {
   "cell_type": "code",
   "execution_count": 166,
   "id": "d2a9164f-e070-47e7-aa2f-ac0e1ebc7e06",
   "metadata": {},
   "outputs": [],
   "source": [
    "from sklearn.ensemble import RandomForestRegressor"
   ]
  },
  {
   "cell_type": "code",
   "execution_count": 167,
   "id": "44143a86-cd87-40a4-94fb-474861302261",
   "metadata": {},
   "outputs": [],
   "source": [
    "RF_model = RandomForestRegressor()"
   ]
  },
  {
   "cell_type": "code",
   "execution_count": 168,
   "id": "bc1ae4ef-79cf-426b-a634-14143274da6c",
   "metadata": {},
   "outputs": [
    {
     "data": {
      "text/plain": [
       "RandomForestRegressor()"
      ]
     },
     "execution_count": 168,
     "metadata": {},
     "output_type": "execute_result"
    }
   ],
   "source": [
    "RF_model.fit(air_pipeline, Y)"
   ]
  },
  {
   "cell_type": "code",
   "execution_count": 169,
   "id": "4356316c-d401-45ee-b132-a381775ce961",
   "metadata": {},
   "outputs": [],
   "source": [
    "RF_predict = RF_model.predict(test_pipeline)"
   ]
  },
  {
   "cell_type": "markdown",
   "id": "f41209c9-1a11-4d11-ab95-ddd49f67076e",
   "metadata": {},
   "source": [
    "## mean_absolute_error"
   ]
  },
  {
   "cell_type": "code",
   "execution_count": 170,
   "id": "b2f36182-8521-43aa-9515-10c39b1d56d9",
   "metadata": {},
   "outputs": [
    {
     "data": {
      "text/plain": [
       "2091.148008732143"
      ]
     },
     "execution_count": 170,
     "metadata": {},
     "output_type": "execute_result"
    }
   ],
   "source": [
    "from sklearn.metrics import mean_absolute_error\n",
    "MAE = mean_absolute_error(y_test, RF_predict)\n",
    "MAE"
   ]
  },
  {
   "cell_type": "markdown",
   "id": "9789ec34-32ff-40e7-b7aa-dce79ac8e92c",
   "metadata": {},
   "source": [
    "## RANDOM FOREST VALIDATIN"
   ]
  },
  {
   "cell_type": "code",
   "execution_count": 171,
   "id": "f2565ec3-09ce-41d6-b8fe-bdcc224a5b21",
   "metadata": {},
   "outputs": [],
   "source": [
    "from sklearn.model_selection import cross_val_score"
   ]
  },
  {
   "cell_type": "code",
   "execution_count": 172,
   "id": "7d87432f-d0d3-4df3-a8bd-e176f50f302c",
   "metadata": {},
   "outputs": [],
   "source": [
    "scores = cross_val_score(RF_model, \n",
    "                         test_pipeline,\n",
    "                         y_test,\n",
    "                         scoring='neg_mean_squared_error',\n",
    "                         cv = 10)"
   ]
  },
  {
   "cell_type": "code",
   "execution_count": 173,
   "id": "41f9bd41-24bb-4a0b-9550-7ed35da618be",
   "metadata": {},
   "outputs": [
    {
     "data": {
      "text/plain": [
       "(4486.553370448912,\n",
       " array([-23691105.61726375, -18420430.63633406, -19924522.33174756,\n",
       "        -17704908.41174275, -21534731.72517172, -22651224.98303187,\n",
       "        -15872397.03834964, -20872487.8681745 , -20058424.66360921,\n",
       "        -21193725.54290575]),\n",
       " 2227855.725961616)"
      ]
     },
     "execution_count": 173,
     "metadata": {},
     "output_type": "execute_result"
    }
   ],
   "source": [
    "np.sqrt(-scores).mean(), scores, scores.std()"
   ]
  },
  {
   "cell_type": "markdown",
   "id": "ef6fff28-7c12-414f-816f-ee2e08dc760b",
   "metadata": {},
   "source": [
    "## REALLY TEST (WORKING WITH TEST_CSV)"
   ]
  },
  {
   "cell_type": "code",
   "execution_count": 174,
   "id": "6ea743fb-f71b-4d3e-886d-f26d371ecfcf",
   "metadata": {},
   "outputs": [
    {
     "data": {
      "text/html": [
       "<div>\n",
       "<style scoped>\n",
       "    .dataframe tbody tr th:only-of-type {\n",
       "        vertical-align: middle;\n",
       "    }\n",
       "\n",
       "    .dataframe tbody tr th {\n",
       "        vertical-align: top;\n",
       "    }\n",
       "\n",
       "    .dataframe thead th {\n",
       "        text-align: right;\n",
       "    }\n",
       "</style>\n",
       "<table border=\"1\" class=\"dataframe\">\n",
       "  <thead>\n",
       "    <tr style=\"text-align: right;\">\n",
       "      <th></th>\n",
       "      <th>airline</th>\n",
       "      <th>flight</th>\n",
       "      <th>source_city</th>\n",
       "      <th>departure_time</th>\n",
       "      <th>stops</th>\n",
       "      <th>arrival_time</th>\n",
       "      <th>destination_city</th>\n",
       "      <th>class</th>\n",
       "      <th>duration</th>\n",
       "      <th>days_left</th>\n",
       "    </tr>\n",
       "    <tr>\n",
       "      <th>id</th>\n",
       "      <th></th>\n",
       "      <th></th>\n",
       "      <th></th>\n",
       "      <th></th>\n",
       "      <th></th>\n",
       "      <th></th>\n",
       "      <th></th>\n",
       "      <th></th>\n",
       "      <th></th>\n",
       "      <th></th>\n",
       "    </tr>\n",
       "  </thead>\n",
       "  <tbody>\n",
       "    <tr>\n",
       "      <th>1</th>\n",
       "      <td>Air_India</td>\n",
       "      <td>AI-765</td>\n",
       "      <td>Kolkata</td>\n",
       "      <td>Evening</td>\n",
       "      <td>one</td>\n",
       "      <td>Night</td>\n",
       "      <td>Delhi</td>\n",
       "      <td>Business</td>\n",
       "      <td>28.25</td>\n",
       "      <td>2</td>\n",
       "    </tr>\n",
       "    <tr>\n",
       "      <th>2</th>\n",
       "      <td>Vistara</td>\n",
       "      <td>UK-747</td>\n",
       "      <td>Delhi</td>\n",
       "      <td>Early_Morning</td>\n",
       "      <td>one</td>\n",
       "      <td>Night</td>\n",
       "      <td>Mumbai</td>\n",
       "      <td>Business</td>\n",
       "      <td>13.83</td>\n",
       "      <td>34</td>\n",
       "    </tr>\n",
       "    <tr>\n",
       "      <th>3</th>\n",
       "      <td>Air_India</td>\n",
       "      <td>AI-570</td>\n",
       "      <td>Mumbai</td>\n",
       "      <td>Early_Morning</td>\n",
       "      <td>zero</td>\n",
       "      <td>Early_Morning</td>\n",
       "      <td>Chennai</td>\n",
       "      <td>Business</td>\n",
       "      <td>2.00</td>\n",
       "      <td>30</td>\n",
       "    </tr>\n",
       "    <tr>\n",
       "      <th>4</th>\n",
       "      <td>AirAsia</td>\n",
       "      <td>I5-974</td>\n",
       "      <td>Hyderabad</td>\n",
       "      <td>Night</td>\n",
       "      <td>one</td>\n",
       "      <td>Late_Night</td>\n",
       "      <td>Delhi</td>\n",
       "      <td>Economy</td>\n",
       "      <td>5.17</td>\n",
       "      <td>26</td>\n",
       "    </tr>\n",
       "    <tr>\n",
       "      <th>5</th>\n",
       "      <td>Air_India</td>\n",
       "      <td>AI-770</td>\n",
       "      <td>Kolkata</td>\n",
       "      <td>Night</td>\n",
       "      <td>one</td>\n",
       "      <td>Afternoon</td>\n",
       "      <td>Mumbai</td>\n",
       "      <td>Economy</td>\n",
       "      <td>16.33</td>\n",
       "      <td>35</td>\n",
       "    </tr>\n",
       "    <tr>\n",
       "      <th>6</th>\n",
       "      <td>Air_India</td>\n",
       "      <td>AI-808</td>\n",
       "      <td>Bangalore</td>\n",
       "      <td>Night</td>\n",
       "      <td>one</td>\n",
       "      <td>Morning</td>\n",
       "      <td>Mumbai</td>\n",
       "      <td>Economy</td>\n",
       "      <td>14.25</td>\n",
       "      <td>40</td>\n",
       "    </tr>\n",
       "    <tr>\n",
       "      <th>7</th>\n",
       "      <td>Indigo</td>\n",
       "      <td>6E-6051</td>\n",
       "      <td>Mumbai</td>\n",
       "      <td>Evening</td>\n",
       "      <td>one</td>\n",
       "      <td>Night</td>\n",
       "      <td>Chennai</td>\n",
       "      <td>Economy</td>\n",
       "      <td>5.08</td>\n",
       "      <td>20</td>\n",
       "    </tr>\n",
       "    <tr>\n",
       "      <th>8</th>\n",
       "      <td>Air_India</td>\n",
       "      <td>AI-569</td>\n",
       "      <td>Chennai</td>\n",
       "      <td>Early_Morning</td>\n",
       "      <td>two_or_more</td>\n",
       "      <td>Morning</td>\n",
       "      <td>Kolkata</td>\n",
       "      <td>Economy</td>\n",
       "      <td>26.50</td>\n",
       "      <td>9</td>\n",
       "    </tr>\n",
       "    <tr>\n",
       "      <th>9</th>\n",
       "      <td>Indigo</td>\n",
       "      <td>6E-7223</td>\n",
       "      <td>Bangalore</td>\n",
       "      <td>Afternoon</td>\n",
       "      <td>one</td>\n",
       "      <td>Evening</td>\n",
       "      <td>Hyderabad</td>\n",
       "      <td>Economy</td>\n",
       "      <td>4.58</td>\n",
       "      <td>20</td>\n",
       "    </tr>\n",
       "    <tr>\n",
       "      <th>10</th>\n",
       "      <td>Vistara</td>\n",
       "      <td>UK-852</td>\n",
       "      <td>Mumbai</td>\n",
       "      <td>Afternoon</td>\n",
       "      <td>two_or_more</td>\n",
       "      <td>Night</td>\n",
       "      <td>Hyderabad</td>\n",
       "      <td>Economy</td>\n",
       "      <td>10.75</td>\n",
       "      <td>1</td>\n",
       "    </tr>\n",
       "  </tbody>\n",
       "</table>\n",
       "</div>"
      ],
      "text/plain": [
       "      airline   flight source_city departure_time        stops   arrival_time  \\\n",
       "id                                                                              \n",
       "1   Air_India   AI-765     Kolkata        Evening          one          Night   \n",
       "2     Vistara   UK-747       Delhi  Early_Morning          one          Night   \n",
       "3   Air_India   AI-570      Mumbai  Early_Morning         zero  Early_Morning   \n",
       "4     AirAsia   I5-974   Hyderabad          Night          one     Late_Night   \n",
       "5   Air_India   AI-770     Kolkata          Night          one      Afternoon   \n",
       "6   Air_India   AI-808   Bangalore          Night          one        Morning   \n",
       "7      Indigo  6E-6051      Mumbai        Evening          one          Night   \n",
       "8   Air_India   AI-569     Chennai  Early_Morning  two_or_more        Morning   \n",
       "9      Indigo  6E-7223   Bangalore      Afternoon          one        Evening   \n",
       "10    Vistara   UK-852      Mumbai      Afternoon  two_or_more          Night   \n",
       "\n",
       "   destination_city     class  duration  days_left  \n",
       "id                                                  \n",
       "1             Delhi  Business     28.25          2  \n",
       "2            Mumbai  Business     13.83         34  \n",
       "3           Chennai  Business      2.00         30  \n",
       "4             Delhi   Economy      5.17         26  \n",
       "5            Mumbai   Economy     16.33         35  \n",
       "6            Mumbai   Economy     14.25         40  \n",
       "7           Chennai   Economy      5.08         20  \n",
       "8           Kolkata   Economy     26.50          9  \n",
       "9         Hyderabad   Economy      4.58         20  \n",
       "10        Hyderabad   Economy     10.75          1  "
      ]
     },
     "execution_count": 174,
     "metadata": {},
     "output_type": "execute_result"
    }
   ],
   "source": [
    "df2 = pd.read_csv('test_data.csv', index_col=0)\n",
    "df2.head(10)"
   ]
  },
  {
   "cell_type": "markdown",
   "id": "8290bef2-dbce-478a-b23f-afdfc36f9494",
   "metadata": {},
   "source": [
    "## konveyerdan o'tkazamiz"
   ]
  },
  {
   "cell_type": "code",
   "execution_count": 175,
   "id": "42fdf017-bf52-4a0f-afe8-bb39259be0f7",
   "metadata": {},
   "outputs": [],
   "source": [
    "test_df_pipline = full_pipeline.fit_transform(df2)"
   ]
  },
  {
   "cell_type": "markdown",
   "id": "579fc41d-df30-45db-be6c-2de04749138b",
   "metadata": {},
   "source": [
    "## BASHORAT"
   ]
  },
  {
   "cell_type": "code",
   "execution_count": 176,
   "id": "97f3d4ff-7010-47de-bb73-6ddde3772c31",
   "metadata": {},
   "outputs": [],
   "source": [
    "test_df_RF_predict = RF_model.predict(test_df_pipline)"
   ]
  },
  {
   "cell_type": "code",
   "execution_count": 181,
   "id": "21456a25-1306-4270-b07c-e12d29a9a9c2",
   "metadata": {},
   "outputs": [
    {
     "data": {
      "text/plain": [
       "array([52016.21, 54059.41, 23411.08, ..., 50241.77, 48818.72, 64638.03])"
      ]
     },
     "execution_count": 181,
     "metadata": {},
     "output_type": "execute_result"
    }
   ],
   "source": [
    "test_df_RF_predict"
   ]
  },
  {
   "cell_type": "markdown",
   "id": "af44bb26-5adf-4fd9-8836-98e88dff5605",
   "metadata": {},
   "source": [
    "## YOZISHGA TAYYORLASH"
   ]
  },
  {
   "cell_type": "code",
   "execution_count": 178,
   "id": "a07e90d9-c193-4a90-b2dc-2431412f1c24",
   "metadata": {},
   "outputs": [],
   "source": [
    "finally_pred = pd.DataFrame({'id':df2.index, \"price\":test_df_RF_predict})"
   ]
  },
  {
   "cell_type": "code",
   "execution_count": 183,
   "id": "70a4a76d-36c1-480f-accd-8a1f2e9ecba0",
   "metadata": {},
   "outputs": [
    {
     "data": {
      "text/html": [
       "<div>\n",
       "<style scoped>\n",
       "    .dataframe tbody tr th:only-of-type {\n",
       "        vertical-align: middle;\n",
       "    }\n",
       "\n",
       "    .dataframe tbody tr th {\n",
       "        vertical-align: top;\n",
       "    }\n",
       "\n",
       "    .dataframe thead th {\n",
       "        text-align: right;\n",
       "    }\n",
       "</style>\n",
       "<table border=\"1\" class=\"dataframe\">\n",
       "  <thead>\n",
       "    <tr style=\"text-align: right;\">\n",
       "      <th></th>\n",
       "      <th>id</th>\n",
       "      <th>price</th>\n",
       "    </tr>\n",
       "  </thead>\n",
       "  <tbody>\n",
       "    <tr>\n",
       "      <th>3154</th>\n",
       "      <td>3155</td>\n",
       "      <td>7189.83</td>\n",
       "    </tr>\n",
       "    <tr>\n",
       "      <th>2433</th>\n",
       "      <td>2434</td>\n",
       "      <td>6218.50</td>\n",
       "    </tr>\n",
       "    <tr>\n",
       "      <th>3325</th>\n",
       "      <td>3326</td>\n",
       "      <td>3308.15</td>\n",
       "    </tr>\n",
       "    <tr>\n",
       "      <th>1155</th>\n",
       "      <td>1156</td>\n",
       "      <td>7905.05</td>\n",
       "    </tr>\n",
       "    <tr>\n",
       "      <th>1378</th>\n",
       "      <td>1379</td>\n",
       "      <td>4573.67</td>\n",
       "    </tr>\n",
       "    <tr>\n",
       "      <th>335</th>\n",
       "      <td>336</td>\n",
       "      <td>11889.74</td>\n",
       "    </tr>\n",
       "    <tr>\n",
       "      <th>4879</th>\n",
       "      <td>4880</td>\n",
       "      <td>6789.51</td>\n",
       "    </tr>\n",
       "    <tr>\n",
       "      <th>216</th>\n",
       "      <td>217</td>\n",
       "      <td>5684.19</td>\n",
       "    </tr>\n",
       "    <tr>\n",
       "      <th>1222</th>\n",
       "      <td>1223</td>\n",
       "      <td>3922.56</td>\n",
       "    </tr>\n",
       "    <tr>\n",
       "      <th>4817</th>\n",
       "      <td>4818</td>\n",
       "      <td>4036.08</td>\n",
       "    </tr>\n",
       "  </tbody>\n",
       "</table>\n",
       "</div>"
      ],
      "text/plain": [
       "        id     price\n",
       "3154  3155   7189.83\n",
       "2433  2434   6218.50\n",
       "3325  3326   3308.15\n",
       "1155  1156   7905.05\n",
       "1378  1379   4573.67\n",
       "335    336  11889.74\n",
       "4879  4880   6789.51\n",
       "216    217   5684.19\n",
       "1222  1223   3922.56\n",
       "4817  4818   4036.08"
      ]
     },
     "execution_count": 183,
     "metadata": {},
     "output_type": "execute_result"
    }
   ],
   "source": [
    "finally_pred.sample(10)"
   ]
  },
  {
   "cell_type": "code",
   "execution_count": 184,
   "id": "1d88cc34-1ccf-4bb1-96b2-8d7dc1e75a58",
   "metadata": {},
   "outputs": [],
   "source": [
    "finally_pred.to_csv('sample_solution.csv', index=False)"
   ]
  },
  {
   "cell_type": "markdown",
   "id": "fa4fe51f-2629-4630-ae66-4faffaa209e1",
   "metadata": {},
   "source": [
    "## FINISHED"
   ]
  }
 ],
 "metadata": {
  "kernelspec": {
   "display_name": "Python 3 (ipykernel)",
   "language": "python",
   "name": "python3"
  },
  "language_info": {
   "codemirror_mode": {
    "name": "ipython",
    "version": 3
   },
   "file_extension": ".py",
   "mimetype": "text/x-python",
   "name": "python",
   "nbconvert_exporter": "python",
   "pygments_lexer": "ipython3",
   "version": "3.9.13"
  }
 },
 "nbformat": 4,
 "nbformat_minor": 5
}
